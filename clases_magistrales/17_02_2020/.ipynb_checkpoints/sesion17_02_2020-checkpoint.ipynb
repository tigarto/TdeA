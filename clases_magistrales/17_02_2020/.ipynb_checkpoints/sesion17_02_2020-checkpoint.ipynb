{
 "cells": [
  {
   "cell_type": "markdown",
   "metadata": {},
   "source": [
    "[![Open In Colab](https://colab.research.google.com/assets/colab-badge.svg)](https://colab.research.google.com/github/tigarto/TdeA/blob/master/clases_magistrales/17_02_2020/sesion17_02_2020.ipynb)"
   ]
  },
  {
   "cell_type": "code",
   "execution_count": 4,
   "metadata": {},
   "outputs": [
    {
     "name": "stdout",
     "output_type": "stream",
     "text": [
      "sh: 0: getcwd() failed: No such file or directory\n",
      "sh: 0: getcwd() failed: No such file or directory\n",
      "The folder you are executing pip from can no longer be found.\n",
      "The tutormagic extension is already loaded. To reload it, use:\n",
      "  %reload_ext tutormagic\n"
     ]
    }
   ],
   "source": [
    "!pip3 install tutormagic\n",
    "%load_ext tutormagic"
   ]
  },
  {
   "cell_type": "markdown",
   "metadata": {},
   "source": [
    "# Ejemplo POO #"
   ]
  },
  {
   "cell_type": "markdown",
   "metadata": {},
   "source": [
    "## Problema ##\n",
    "\n",
    "Hacer una clase que modele un rectangulo"
   ]
  },
  {
   "cell_type": "markdown",
   "metadata": {},
   "source": [
    "## Diagrama UML ##\n",
    "\n",
    "La siguiente figura muestra el diagrama UML asociado:\n",
    "\n",
    "![UML_rectangulo](Rectangulo.jpg)"
   ]
  },
  {
   "cell_type": "markdown",
   "metadata": {},
   "source": [
    "## Codigo java ##\n",
    "\n",
    "El programa consta de los siguientes archivos fuente (que pueden ser usados en una IDE como Netbeans):\n",
    "1. [Main.java](Main.java): Clase con el metodo principal.\n",
    "2. [Rectangulo.java](Recangulo.java): Clase que modela la figura rectangulo.\n",
    "\n",
    "Para facilitar el analisis del codigo se hace la simulación en pythontutor de dicho codigo (todo en una sola clase) tal y como se muestra a continuación:"
   ]
  },
  {
   "cell_type": "code",
   "execution_count": 5,
   "metadata": {},
   "outputs": [
    {
     "data": {
      "text/html": [
       "<div class=\"text-center\"><strong><a style=\"box-sizing: border-box; padding: 0 5px; border: 1px solid #CFCFCF;\" target=\"_\" href=http://pythontutor.com/iframe-embed.html#code=%0Apublic%20class%20Rectangulo%20%7B%0A%20%20%0A%20%20%20%20/%2AAtributos%2A/%0A%20%20%20%20private%20double%20base%3B%0A%20%20%20%20private%20double%20altura%3B%0A%0A%20%20%20%20/%2AMetodos%2A/%0A%20%20%20%20public%20Rectangulo%28%29%20%7B%0A%20%20%20%20%20%20%20%20base%20%3D%200%3B%0A%20%20%20%20%20%20%20%20altura%20%3D%200%3B%0A%20%20%20%20%7D%0A%0A%20%20%20%20public%20Rectangulo%28double%20b%2C%20double%20h%29%20%7B%0A%20%20%20%20%20%20%20%20base%20%3D%20b%3B%0A%20%20%20%20%20%20%20%20altura%20%3D%20h%3B%0A%20%20%20%20%7D%0A%0A%20%20%20%20public%20Rectangulo%28double%20l%29%20%7B%0A%20%20%20%20%20%20%20%20base%20%3D%20altura%20%3D%20l%3B%0A%20%20%20%20%7D%0A%0A%20%20%20%20public%20void%20setBase%28double%20b%29%20%7B%0A%20%20%20%20%20%20%20%20base%20%3D%20b%3B%0A%20%20%20%20%7D%0A%0A%20%20%20%20public%20void%20setAltura%28double%20h%29%20%7B%0A%20%20%20%20%20%20%20%20altura%20%3D%20h%3B%0A%20%20%20%20%7D%0A%0A%20%20%20%20public%20double%20getBase%28%29%20%7B%0A%20%20%20%20%20%20%20%20return%20base%3B%0A%20%20%20%20%7D%0A%0A%20%20%20%20public%20double%20getAltura%28%29%20%7B%0A%20%20%20%20%20%20%20%20return%20altura%3B%0A%20%20%20%20%7D%0A%0A%20%20%20%20public%20void%20setDimensiones%28double%20b%2C%20double%20h%29%20%7B%0A%20%20%20%20%20%20%20%20base%20%3D%20b%3B%0A%20%20%20%20%20%20%20%20altura%20%3D%20h%3B%0A%20%20%20%20%7D%0A%0A%20%20%20%20public%20double%20calcularArea%28%29%7B%0A%20%20%20%20%20%20%20%20double%20A%20%3D%20base%2Aaltura%3B%0A%20%20%20%20%20%20%20%20return%20A%3B%0A%20%20%20%20%7D%0A%0A%20%20%20%20public%20double%20calcularPerimetro%28%29%7B%0A%20%20%20%20%20%20%20%20return%202%2A%28base%20%2B%20altura%29%3B%0A%20%20%20%20%7D%0A%0A%20%20%20%20public%20double%5B%5D%20getDimensiones%28%29%20%7B%0A%20%20%20%20%20%20%20%20double%20dim%5B%5D%20%3D%20new%20double%5B2%5D%3B%0A%20%20%20%20%20%20%20%20dim%5B0%5D%20%3D%20base%3B%0A%20%20%20%20%20%20%20%20dim%5B1%5D%20%3D%20altura%3B%0A%20%20%20%20%20%20%20%20return%20dim%3B%0A%20%20%20%20%7D%0A%20%20%20%20%0A%20%20%20%20/%2A%20Metodo%20principal%20%2A/%0A%20%20%20%20public%20static%20void%20main%28String%5B%5D%20args%29%20%7B%0A%20%20%20%20%20%20%20%20System.out.println%28%22Ensayo%22%29%3B%0A%20%20%20%20%20%20%20%20Rectangulo%20A%20%3D%20new%20Rectangulo%28%29%3B%0A%20%20%20%20%20%20%20%20A.setDimensiones%283%2C%202%29%3B%0A%20%20%20%20%20%20%20%20System.out.println%28%22Rectangulo%20A%3A%22%29%3B%0A%20%20%20%20%20%20%20%20System.out.println%28%22Base%20%3D%20%22%20%2B%20A.getBase%28%29%29%3B%0A%20%20%20%20%20%20%20%20System.out.println%28%22Altura%20%3D%20%22%20%2B%20A.getAltura%28%29%29%3B%0A%20%20%20%20%20%20%20%20Rectangulo%20B%20%3D%20new%20Rectangulo%28%29%3B%0A%20%20%20%20%20%20%20%20B.setBase%281%29%3B%0A%20%20%20%20%20%20%20%20B.setAltura%286%29%3B%0A%20%20%20%20%20%20%20%20System.out.println%28%22Rectangulo%20B%3A%22%29%3B%0A%20%20%20%20%20%20%20%20System.out.println%28%22Base%20%3D%20%22%20%2B%20B.getBase%28%29%29%3B%0A%20%20%20%20%20%20%20%20System.out.println%28%22Altura%20%3D%20%22%20%2B%20B.getAltura%28%29%29%3B%0A%20%20%20%20%20%20%20%20Rectangulo%20C%20%3D%20new%20Rectangulo%28%29%3B%0A%20%20%20%20%20%20%20%20System.out.println%28%22Rectangulo%20C%3A%22%29%3B%0A%20%20%20%20%20%20%20%20System.out.println%28%22Base%20%3D%20%22%20%2B%20C.getBase%28%29%29%3B%0A%20%20%20%20%20%20%20%20System.out.println%28%22Altura%20%3D%20%22%20%2B%20C.getAltura%28%29%29%3B%0A%20%20%20%20%20%20%20%20C.setDimensiones%282%2C%202%29%3B%0A%20%20%20%20%20%20%20%20System.out.println%28%22Rectangulo%20C%3A%22%29%3B%0A%20%20%20%20%20%20%20%20System.out.println%28%22Base%20%3D%20%22%20%2B%20C.getBase%28%29%29%3B%0A%20%20%20%20%20%20%20%20System.out.println%28%22Altura%20%3D%20%22%20%2B%20C.getAltura%28%29%29%3B%0A%20%20%20%20%20%20%20%20Rectangulo%20D%20%3D%20new%20Rectangulo%286%2C%205%29%3B%0A%20%20%20%20%20%20%20%20System.out.println%28%22Rectangulo%20D%3A%22%29%3B%0A%20%20%20%20%20%20%20%20System.out.println%28%22Base%20%3D%20%22%20%2B%20D.getBase%28%29%29%3B%0A%20%20%20%20%20%20%20%20System.out.println%28%22Altura%20%3D%20%22%20%2B%20D.getAltura%28%29%29%3B%0A%20%20%20%20%20%20%20%20Rectangulo%20E%20%3D%20new%20Rectangulo%286%29%3B%0A%20%20%20%20%20%20%20%20System.out.println%28%22Rectangulo%20D%3A%22%29%3B%0A%20%20%20%20%20%20%20%20System.out.println%28%22Base%20%3D%20%22%20%2B%20E.getBase%28%29%29%3B%0A%20%20%20%20%20%20%20%20System.out.println%28%22Altura%20%3D%20%22%20%2B%20E.getAltura%28%29%29%3B%0A%20%20%20%20%20%20%20%20//%20Calcular%20Area%20y%20perimetro%20de%20A%20e%20imprimirlos%0A%20%20%20%20%20%20%20%20double%20areaA%2C%20perimetroA%3B%0A%20%20%20%20%20%20%20%20areaA%20%3D%20A.calcularArea%28%29%3B%0A%20%20%20%20%20%20%20%20perimetroA%20%3D%20A.calcularPerimetro%28%29%3B%0A%20%20%20%20%20%20%20%20System.out.println%28%22Area%28A%29%20%3D%20%22%20%2B%20areaA%29%3B%0A%20%20%20%20%20%20%20%20System.out.println%28%22Perimetro%28A%29%20%3D%20%22%20%2B%20perimetroA%29%3B%0A%20%20%20%20%20%20%20%20double%20dimA%5B%5D%20%3D%20new%20double%5B2%5D%3B%0A%20%20%20%20%20%20%20%20dimA%20%3D%20A.getDimensiones%28%29%3B%0A%20%20%20%20%20%20%20%20System.out.println%28%22base%28A%29%20%3D%20%22%20%2B%20dimA%5B0%5D%29%3B%0A%20%20%20%20%20%20%20%20System.out.println%28%22altura%28A%29%20%3D%20%22%20%2B%20dimA%5B1%5D%29%3B%0A%0A%20%20%20%20%7D%0A%7D%0A&origin=opt-frontend.js&cumulative=false&heapPrimitives=false&textReferences=false&curInstr=0&&verticalStack=false&py=java&rawInputLstJSON=%5B%5D&codeDivWidth=50%25&codeDivHeight=100%25>Python Tutor</a></strong></div>"
      ],
      "text/plain": [
       "<IPython.core.display.HTML object>"
      ]
     },
     "metadata": {},
     "output_type": "display_data"
    }
   ],
   "source": [
    "%%tutor -l java -k\n",
    "\n",
    "public class Rectangulo {\n",
    "  \n",
    "    /*Atributos*/\n",
    "    private double base;\n",
    "    private double altura;\n",
    "\n",
    "    /*Metodos*/\n",
    "    public Rectangulo() {\n",
    "        base = 0;\n",
    "        altura = 0;\n",
    "    }\n",
    "\n",
    "    public Rectangulo(double b, double h) {\n",
    "        base = b;\n",
    "        altura = h;\n",
    "    }\n",
    "\n",
    "    public Rectangulo(double l) {\n",
    "        base = altura = l;\n",
    "    }\n",
    "\n",
    "    public void setBase(double b) {\n",
    "        base = b;\n",
    "    }\n",
    "\n",
    "    public void setAltura(double h) {\n",
    "        altura = h;\n",
    "    }\n",
    "\n",
    "    public double getBase() {\n",
    "        return base;\n",
    "    }\n",
    "\n",
    "    public double getAltura() {\n",
    "        return altura;\n",
    "    }\n",
    "\n",
    "    public void setDimensiones(double b, double h) {\n",
    "        base = b;\n",
    "        altura = h;\n",
    "    }\n",
    "\n",
    "    public double calcularArea(){\n",
    "        double A = base*altura;\n",
    "        return A;\n",
    "    }\n",
    "\n",
    "    public double calcularPerimetro(){\n",
    "        return 2*(base + altura);\n",
    "    }\n",
    "\n",
    "    public double[] getDimensiones() {\n",
    "        double dim[] = new double[2];\n",
    "        dim[0] = base;\n",
    "        dim[1] = altura;\n",
    "        return dim;\n",
    "    }\n",
    "    \n",
    "    /* Metodo principal */\n",
    "    public static void main(String[] args) {\n",
    "        System.out.println(\"Ensayo\");\n",
    "        Rectangulo A = new Rectangulo();\n",
    "        A.setDimensiones(3, 2);\n",
    "        System.out.println(\"Rectangulo A:\");\n",
    "        System.out.println(\"Base = \" + A.getBase());\n",
    "        System.out.println(\"Altura = \" + A.getAltura());\n",
    "        Rectangulo B = new Rectangulo();\n",
    "        B.setBase(1);\n",
    "        B.setAltura(6);\n",
    "        System.out.println(\"Rectangulo B:\");\n",
    "        System.out.println(\"Base = \" + B.getBase());\n",
    "        System.out.println(\"Altura = \" + B.getAltura());\n",
    "        Rectangulo C = new Rectangulo();\n",
    "        System.out.println(\"Rectangulo C:\");\n",
    "        System.out.println(\"Base = \" + C.getBase());\n",
    "        System.out.println(\"Altura = \" + C.getAltura());\n",
    "        C.setDimensiones(2, 2);\n",
    "        System.out.println(\"Rectangulo C:\");\n",
    "        System.out.println(\"Base = \" + C.getBase());\n",
    "        System.out.println(\"Altura = \" + C.getAltura());\n",
    "        Rectangulo D = new Rectangulo(6, 5);\n",
    "        System.out.println(\"Rectangulo D:\");\n",
    "        System.out.println(\"Base = \" + D.getBase());\n",
    "        System.out.println(\"Altura = \" + D.getAltura());\n",
    "        Rectangulo E = new Rectangulo(6);\n",
    "        System.out.println(\"Rectangulo D:\");\n",
    "        System.out.println(\"Base = \" + E.getBase());\n",
    "        System.out.println(\"Altura = \" + E.getAltura());\n",
    "        // Calcular Area y perimetro de A e imprimirlos\n",
    "        double areaA, perimetroA;\n",
    "        areaA = A.calcularArea();\n",
    "        perimetroA = A.calcularPerimetro();\n",
    "        System.out.println(\"Area(A) = \" + areaA);\n",
    "        System.out.println(\"Perimetro(A) = \" + perimetroA);\n",
    "        double dimA[] = new double[2];\n",
    "        dimA = A.getDimensiones();\n",
    "        System.out.println(\"base(A) = \" + dimA[0]);\n",
    "        System.out.println(\"altura(A) = \" + dimA[1]);\n",
    "\n",
    "    }\n",
    "}"
   ]
  },
  {
   "cell_type": "markdown",
   "metadata": {},
   "source": [
    "## Preguntas ##\n",
    "Analizando el condigo anterior, responda las siguientes preguntas:\n",
    "1. ¿Cuantos objetos tipo rectangulo se instanciaron?, ¿Cuales?\n",
    "2. ¿Como se puede crear un objeto tipo rectangulo llamado R1 de dimensiones 3 para la base y 8 para la altura?\n",
    "3. ¿Como cambiar el valor de la altura del objeto R1 de modo que sea el doble de la de la base?\n",
    "4. Dada una variable double llamada areaTotal ¿Que instrucción uso para llevar a esta la suma de las areas de los rectangulos A, B, C y D?"
   ]
  },
  {
   "cell_type": "code",
   "execution_count": null,
   "metadata": {},
   "outputs": [],
   "source": []
  }
 ],
 "metadata": {
  "kernelspec": {
   "display_name": "Python 3",
   "language": "python",
   "name": "python3"
  },
  "language_info": {
   "codemirror_mode": {
    "name": "ipython",
    "version": 3
   },
   "file_extension": ".py",
   "mimetype": "text/x-python",
   "name": "python",
   "nbconvert_exporter": "python",
   "pygments_lexer": "ipython3",
   "version": "3.7.4"
  }
 },
 "nbformat": 4,
 "nbformat_minor": 2
}
