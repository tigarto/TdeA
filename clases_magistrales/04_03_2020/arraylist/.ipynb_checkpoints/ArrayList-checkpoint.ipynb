{
 "cells": [
  {
   "cell_type": "code",
   "execution_count": 1,
   "metadata": {},
   "outputs": [
    {
     "name": "stdout",
     "output_type": "stream",
     "text": [
      "Collecting tutormagic\n",
      "  Using cached https://files.pythonhosted.org/packages/26/4c/170e56dce3ecbf0608f37b3b99100bd2666cac181da14bc685516e958435/tutormagic-0.3.0-py2.py3-none-any.whl\n",
      "Collecting notebook>=3.0 (from tutormagic)\n",
      "  Using cached https://files.pythonhosted.org/packages/b1/f1/0a67f09ef53a342403ffa66646ee39273e0ac79ffa5de5dbe2f3e28b5bdf/notebook-6.0.3-py3-none-any.whl\n",
      "Collecting tornado>=5.0 (from notebook>=3.0->tutormagic)\n",
      "  Downloading https://files.pythonhosted.org/packages/95/84/119a46d494f008969bf0c775cb2c6b3579d3c4cc1bb1b41a022aa93ee242/tornado-6.0.4.tar.gz (496kB)\n",
      "\u001b[K    100% |████████████████████████████████| 501kB 627kB/s ta 0:00:01\n",
      "\u001b[?25hCollecting ipython-genutils (from notebook>=3.0->tutormagic)\n",
      "  Using cached https://files.pythonhosted.org/packages/fa/bc/9bd3b5c2b4774d5f33b2d544f1460be9df7df2fe42f352135381c347c69a/ipython_genutils-0.2.0-py2.py3-none-any.whl\n",
      "Collecting ipykernel (from notebook>=3.0->tutormagic)\n",
      "  Using cached https://files.pythonhosted.org/packages/d7/62/d1a5d654b7a21bd3eb99be1b59a608cc18a7a08ed88495457a87c40a0495/ipykernel-5.1.4-py3-none-any.whl\n",
      "Collecting nbformat (from notebook>=3.0->tutormagic)\n",
      "  Using cached https://files.pythonhosted.org/packages/ac/eb/de575b7a64e7ab8d8c95e4c180ccc36deda3f1379186c4ee7adf6c2f1586/nbformat-5.0.4-py3-none-any.whl\n",
      "Collecting jupyter-core>=4.6.1 (from notebook>=3.0->tutormagic)\n",
      "  Using cached https://files.pythonhosted.org/packages/63/0d/df2d17cdf389cea83e2efa9a4d32f7d527ba78667e0153a8e676e957b2f7/jupyter_core-4.6.3-py2.py3-none-any.whl\n",
      "Collecting nbconvert (from notebook>=3.0->tutormagic)\n",
      "  Using cached https://files.pythonhosted.org/packages/79/6c/05a569e9f703d18aacb89b7ad6075b404e8a4afde2c26b73ca77bb644b14/nbconvert-5.6.1-py2.py3-none-any.whl\n",
      "Collecting traitlets>=4.2.1 (from notebook>=3.0->tutormagic)\n",
      "  Using cached https://files.pythonhosted.org/packages/ca/ab/872a23e29cec3cf2594af7e857f18b687ad21039c1f9b922fac5b9b142d5/traitlets-4.3.3-py2.py3-none-any.whl\n",
      "Collecting jinja2 (from notebook>=3.0->tutormagic)\n",
      "  Using cached https://files.pythonhosted.org/packages/27/24/4f35961e5c669e96f6559760042a55b9bcfcdb82b9bdb3c8753dbe042e35/Jinja2-2.11.1-py2.py3-none-any.whl\n",
      "Collecting pyzmq>=17 (from notebook>=3.0->tutormagic)\n",
      "  Using cached https://files.pythonhosted.org/packages/41/fa/e6e10410f01b03d10ab0705717d1246f63cdbbc0676140c78f0f757db332/pyzmq-19.0.0-cp36-cp36m-manylinux1_x86_64.whl\n",
      "Collecting prometheus-client (from notebook>=3.0->tutormagic)\n",
      "  Using cached https://files.pythonhosted.org/packages/b3/23/41a5a24b502d35a4ad50a5bb7202a5e1d9a0364d0c12f56db3dbf7aca76d/prometheus_client-0.7.1.tar.gz\n",
      "Collecting jupyter-client>=5.3.4 (from notebook>=3.0->tutormagic)\n",
      "  Using cached https://files.pythonhosted.org/packages/40/75/4c4eb43749e59db3c1c7932b50eaf8c4b8219b1b5644fe379ea796f8dbe5/jupyter_client-6.0.0-py3-none-any.whl\n",
      "Collecting terminado>=0.8.1 (from notebook>=3.0->tutormagic)\n",
      "  Using cached https://files.pythonhosted.org/packages/ff/96/1d9a2c23990aea8f8e0b5c3b6627d03196a73771a17a2d9860bbe9823ab6/terminado-0.8.3-py2.py3-none-any.whl\n",
      "Collecting Send2Trash (from notebook>=3.0->tutormagic)\n",
      "  Using cached https://files.pythonhosted.org/packages/49/46/c3dc27481d1cc57b9385aff41c474ceb7714f7935b1247194adae45db714/Send2Trash-1.5.0-py3-none-any.whl\n",
      "Collecting ipython>=5.0.0 (from ipykernel->notebook>=3.0->tutormagic)\n",
      "  Downloading https://files.pythonhosted.org/packages/61/6f/69f1eec859ce48a86660529b166b6ea466f0f4ab98e4fc0807b835aa22c6/ipython-7.13.0-py3-none-any.whl (780kB)\n",
      "\u001b[K    100% |████████████████████████████████| 788kB 579kB/s ta 0:00:01\n",
      "\u001b[?25hCollecting jsonschema!=2.5.0,>=2.4 (from nbformat->notebook>=3.0->tutormagic)\n",
      "  Using cached https://files.pythonhosted.org/packages/c5/8f/51e89ce52a085483359217bc72cdbf6e75ee595d5b1d4b5ade40c7e018b8/jsonschema-3.2.0-py2.py3-none-any.whl\n",
      "Collecting pygments (from nbconvert->notebook>=3.0->tutormagic)\n",
      "  Using cached https://files.pythonhosted.org/packages/be/39/32da3184734730c0e4d3fa3b2b5872104668ad6dc1b5a73d8e477e5fe967/Pygments-2.5.2-py2.py3-none-any.whl\n",
      "Collecting entrypoints>=0.2.2 (from nbconvert->notebook>=3.0->tutormagic)\n",
      "  Using cached https://files.pythonhosted.org/packages/ac/c6/44694103f8c221443ee6b0041f69e2740d89a25641e62fb4f2ee568f2f9c/entrypoints-0.3-py2.py3-none-any.whl\n",
      "Collecting mistune<2,>=0.8.1 (from nbconvert->notebook>=3.0->tutormagic)\n",
      "  Using cached https://files.pythonhosted.org/packages/09/ec/4b43dae793655b7d8a25f76119624350b4d65eb663459eb9603d7f1f0345/mistune-0.8.4-py2.py3-none-any.whl\n",
      "Collecting bleach (from nbconvert->notebook>=3.0->tutormagic)\n",
      "  Using cached https://files.pythonhosted.org/packages/6e/87/f88b0e33914420fe11fe8b820c10d045a342c2a015e79ad8309de4bba820/bleach-3.1.1-py2.py3-none-any.whl\n",
      "Collecting defusedxml (from nbconvert->notebook>=3.0->tutormagic)\n",
      "  Using cached https://files.pythonhosted.org/packages/06/74/9b387472866358ebc08732de3da6dc48e44b0aacd2ddaa5cb85ab7e986a2/defusedxml-0.6.0-py2.py3-none-any.whl\n",
      "Collecting pandocfilters>=1.4.1 (from nbconvert->notebook>=3.0->tutormagic)\n",
      "  Using cached https://files.pythonhosted.org/packages/4c/ea/236e2584af67bb6df960832731a6e5325fd4441de001767da328c33368ce/pandocfilters-1.4.2.tar.gz\n",
      "Collecting testpath (from nbconvert->notebook>=3.0->tutormagic)\n",
      "  Using cached https://files.pythonhosted.org/packages/1b/9e/1a170feaa54f22aeb5a5d16c9015e82234275a3c8ab630b552493f9cb8a9/testpath-0.4.4-py2.py3-none-any.whl\n",
      "Collecting decorator (from traitlets>=4.2.1->notebook>=3.0->tutormagic)\n",
      "  Downloading https://files.pythonhosted.org/packages/ed/1b/72a1821152d07cf1d8b6fce298aeb06a7eb90f4d6d41acec9861e7cc6df0/decorator-4.4.2-py2.py3-none-any.whl\n",
      "Collecting six (from traitlets>=4.2.1->notebook>=3.0->tutormagic)\n",
      "  Using cached https://files.pythonhosted.org/packages/65/eb/1f97cb97bfc2390a276969c6fae16075da282f5058082d4cb10c6c5c1dba/six-1.14.0-py2.py3-none-any.whl\n",
      "Collecting MarkupSafe>=0.23 (from jinja2->notebook>=3.0->tutormagic)\n",
      "  Using cached https://files.pythonhosted.org/packages/b2/5f/23e0023be6bb885d00ffbefad2942bc51a620328ee910f64abe5a8d18dd1/MarkupSafe-1.1.1-cp36-cp36m-manylinux1_x86_64.whl\n",
      "Collecting python-dateutil>=2.1 (from jupyter-client>=5.3.4->notebook>=3.0->tutormagic)\n",
      "  Using cached https://files.pythonhosted.org/packages/d4/70/d60450c3dd48ef87586924207ae8907090de0b306af2bce5d134d78615cb/python_dateutil-2.8.1-py2.py3-none-any.whl\n",
      "Collecting ptyprocess; os_name != \"nt\" (from terminado>=0.8.1->notebook>=3.0->tutormagic)\n",
      "  Using cached https://files.pythonhosted.org/packages/d1/29/605c2cc68a9992d18dada28206eeada56ea4bd07a239669da41674648b6f/ptyprocess-0.6.0-py2.py3-none-any.whl\n",
      "Collecting pickleshare (from ipython>=5.0.0->ipykernel->notebook>=3.0->tutormagic)\n",
      "  Using cached https://files.pythonhosted.org/packages/9a/41/220f49aaea88bc6fa6cba8d05ecf24676326156c23b991e80b3f2fc24c77/pickleshare-0.7.5-py2.py3-none-any.whl\n",
      "Collecting prompt-toolkit!=3.0.0,!=3.0.1,<3.1.0,>=2.0.0 (from ipython>=5.0.0->ipykernel->notebook>=3.0->tutormagic)\n",
      "  Using cached https://files.pythonhosted.org/packages/f5/22/f00412fafc68169054cc623a35c32773f22b403ddbe516c8adfdecf25341/prompt_toolkit-3.0.3-py3-none-any.whl\n",
      "Collecting backcall (from ipython>=5.0.0->ipykernel->notebook>=3.0->tutormagic)\n",
      "  Using cached https://files.pythonhosted.org/packages/84/71/c8ca4f5bb1e08401b916c68003acf0a0655df935d74d93bf3f3364b310e0/backcall-0.1.0.tar.gz\n",
      "Collecting setuptools>=18.5 (from ipython>=5.0.0->ipykernel->notebook>=3.0->tutormagic)\n",
      "  Using cached https://files.pythonhosted.org/packages/3d/72/1c1498c1e908e0562b1e1cd30012580baa7d33b5b0ffdbeb5fde2462cc71/setuptools-45.2.0-py3-none-any.whl\n",
      "Collecting jedi>=0.10 (from ipython>=5.0.0->ipykernel->notebook>=3.0->tutormagic)\n",
      "  Using cached https://files.pythonhosted.org/packages/01/67/333e2196b70840f411fd819407b4e98aa3150c2bd24c52154a451f912ef2/jedi-0.16.0-py2.py3-none-any.whl\n",
      "Collecting pexpect; sys_platform != \"win32\" (from ipython>=5.0.0->ipykernel->notebook>=3.0->tutormagic)\n",
      "  Using cached https://files.pythonhosted.org/packages/39/7b/88dbb785881c28a102619d46423cb853b46dbccc70d3ac362d99773a78ce/pexpect-4.8.0-py2.py3-none-any.whl\n",
      "Collecting attrs>=17.4.0 (from jsonschema!=2.5.0,>=2.4->nbformat->notebook>=3.0->tutormagic)\n",
      "  Using cached https://files.pythonhosted.org/packages/a2/db/4313ab3be961f7a763066401fb77f7748373b6094076ae2bda2806988af6/attrs-19.3.0-py2.py3-none-any.whl\n"
     ]
    },
    {
     "name": "stdout",
     "output_type": "stream",
     "text": [
      "Collecting pyrsistent>=0.14.0 (from jsonschema!=2.5.0,>=2.4->nbformat->notebook>=3.0->tutormagic)\n",
      "  Using cached https://files.pythonhosted.org/packages/90/aa/cdcf7ef88cc0f831b6f14c8c57318824c9de9913fe8de38e46a98c069a35/pyrsistent-0.15.7.tar.gz\n",
      "Collecting importlib-metadata; python_version < \"3.8\" (from jsonschema!=2.5.0,>=2.4->nbformat->notebook>=3.0->tutormagic)\n",
      "  Using cached https://files.pythonhosted.org/packages/8b/03/a00d504808808912751e64ccf414be53c29cad620e3de2421135fcae3025/importlib_metadata-1.5.0-py2.py3-none-any.whl\n",
      "Collecting webencodings (from bleach->nbconvert->notebook>=3.0->tutormagic)\n",
      "  Using cached https://files.pythonhosted.org/packages/f4/24/2a3e3df732393fed8b3ebf2ec078f05546de641fe1b667ee316ec1dcf3b7/webencodings-0.5.1-py2.py3-none-any.whl\n",
      "Collecting wcwidth (from prompt-toolkit!=3.0.0,!=3.0.1,<3.1.0,>=2.0.0->ipython>=5.0.0->ipykernel->notebook>=3.0->tutormagic)\n",
      "  Using cached https://files.pythonhosted.org/packages/58/b4/4850a0ccc6f567cc0ebe7060d20ffd4258b8210efadc259da62dc6ed9c65/wcwidth-0.1.8-py2.py3-none-any.whl\n",
      "Collecting parso>=0.5.2 (from jedi>=0.10->ipython>=5.0.0->ipykernel->notebook>=3.0->tutormagic)\n",
      "  Downloading https://files.pythonhosted.org/packages/da/15/888f80e429a971d3838124adde705d7b07650aa3a59f4db07d61f653b8cd/parso-0.6.2-py2.py3-none-any.whl (97kB)\n",
      "\u001b[K    100% |████████████████████████████████| 102kB 1.2MB/s a 0:00:01\n",
      "\u001b[?25hCollecting zipp>=0.5 (from importlib-metadata; python_version < \"3.8\"->jsonschema!=2.5.0,>=2.4->nbformat->notebook>=3.0->tutormagic)\n",
      "  Downloading https://files.pythonhosted.org/packages/b2/34/bfcb43cc0ba81f527bc4f40ef41ba2ff4080e047acb0586b56b3d017ace4/zipp-3.1.0-py3-none-any.whl\n",
      "Building wheels for collected packages: tornado, prometheus-client, pandocfilters, backcall, pyrsistent\n",
      "  Running setup.py bdist_wheel for tornado ... \u001b[?25lerror\n",
      "  Complete output from command /usr/bin/python3 -u -c \"import setuptools, tokenize;__file__='/tmp/pip-build-zeffs6uw/tornado/setup.py';f=getattr(tokenize, 'open', open)(__file__);code=f.read().replace('\\r\\n', '\\n');f.close();exec(compile(code, __file__, 'exec'))\" bdist_wheel -d /tmp/tmpb9vxxy4lpip-wheel- --python-tag cp36:\n",
      "  usage: -c [global_opts] cmd1 [cmd1_opts] [cmd2 [cmd2_opts] ...]\n",
      "     or: -c --help [cmd1 cmd2 ...]\n",
      "     or: -c --help-commands\n",
      "     or: -c cmd --help\n",
      "  \n",
      "  error: invalid command 'bdist_wheel'\n",
      "  \n",
      "  ----------------------------------------\n",
      "\u001b[31m  Failed building wheel for tornado\u001b[0m\n",
      "\u001b[?25h  Running setup.py clean for tornado\n",
      "  Running setup.py bdist_wheel for prometheus-client ... \u001b[?25lerror\n",
      "  Complete output from command /usr/bin/python3 -u -c \"import setuptools, tokenize;__file__='/tmp/pip-build-zeffs6uw/prometheus-client/setup.py';f=getattr(tokenize, 'open', open)(__file__);code=f.read().replace('\\r\\n', '\\n');f.close();exec(compile(code, __file__, 'exec'))\" bdist_wheel -d /tmp/tmpsuovmtdtpip-wheel- --python-tag cp36:\n",
      "  usage: -c [global_opts] cmd1 [cmd1_opts] [cmd2 [cmd2_opts] ...]\n",
      "     or: -c --help [cmd1 cmd2 ...]\n",
      "     or: -c --help-commands\n",
      "     or: -c cmd --help\n",
      "  \n",
      "  error: invalid command 'bdist_wheel'\n",
      "  \n",
      "  ----------------------------------------\n",
      "\u001b[31m  Failed building wheel for prometheus-client\u001b[0m\n",
      "\u001b[?25h  Running setup.py clean for prometheus-client\n",
      "  Running setup.py bdist_wheel for pandocfilters ... \u001b[?25lerror\n",
      "  Complete output from command /usr/bin/python3 -u -c \"import setuptools, tokenize;__file__='/tmp/pip-build-zeffs6uw/pandocfilters/setup.py';f=getattr(tokenize, 'open', open)(__file__);code=f.read().replace('\\r\\n', '\\n');f.close();exec(compile(code, __file__, 'exec'))\" bdist_wheel -d /tmp/tmpo0t9in6opip-wheel- --python-tag cp36:\n",
      "  usage: -c [global_opts] cmd1 [cmd1_opts] [cmd2 [cmd2_opts] ...]\n",
      "     or: -c --help [cmd1 cmd2 ...]\n",
      "     or: -c --help-commands\n",
      "     or: -c cmd --help\n",
      "  \n",
      "  error: invalid command 'bdist_wheel'\n",
      "  \n",
      "  ----------------------------------------\n",
      "\u001b[31m  Failed building wheel for pandocfilters\u001b[0m\n",
      "\u001b[?25h  Running setup.py clean for pandocfilters\n",
      "  Running setup.py bdist_wheel for backcall ... \u001b[?25lerror\n",
      "  Complete output from command /usr/bin/python3 -u -c \"import setuptools, tokenize;__file__='/tmp/pip-build-zeffs6uw/backcall/setup.py';f=getattr(tokenize, 'open', open)(__file__);code=f.read().replace('\\r\\n', '\\n');f.close();exec(compile(code, __file__, 'exec'))\" bdist_wheel -d /tmp/tmpjiu4uy4fpip-wheel- --python-tag cp36:\n",
      "  usage: -c [global_opts] cmd1 [cmd1_opts] [cmd2 [cmd2_opts] ...]\n",
      "     or: -c --help [cmd1 cmd2 ...]\n",
      "     or: -c --help-commands\n",
      "     or: -c cmd --help\n",
      "  \n",
      "  error: invalid command 'bdist_wheel'\n",
      "  \n",
      "  ----------------------------------------\n",
      "\u001b[31m  Failed building wheel for backcall\u001b[0m\n",
      "\u001b[?25h  Running setup.py clean for backcall\n",
      "  Running setup.py bdist_wheel for pyrsistent ... \u001b[?25lerror\n",
      "  Complete output from command /usr/bin/python3 -u -c \"import setuptools, tokenize;__file__='/tmp/pip-build-zeffs6uw/pyrsistent/setup.py';f=getattr(tokenize, 'open', open)(__file__);code=f.read().replace('\\r\\n', '\\n');f.close();exec(compile(code, __file__, 'exec'))\" bdist_wheel -d /tmp/tmpmgv6wu2hpip-wheel- --python-tag cp36:\n",
      "  usage: -c [global_opts] cmd1 [cmd1_opts] [cmd2 [cmd2_opts] ...]\n",
      "     or: -c --help [cmd1 cmd2 ...]\n",
      "     or: -c --help-commands\n",
      "     or: -c cmd --help\n",
      "  \n",
      "  error: invalid command 'bdist_wheel'\n",
      "  \n",
      "  ----------------------------------------\n",
      "\u001b[31m  Failed building wheel for pyrsistent\u001b[0m\n",
      "\u001b[?25h  Running setup.py clean for pyrsistent\n",
      "Failed to build tornado prometheus-client pandocfilters backcall pyrsistent\n",
      "Installing collected packages: tornado, ipython-genutils, decorator, six, traitlets, pickleshare, wcwidth, prompt-toolkit, pygments, backcall, setuptools, parso, jedi, ptyprocess, pexpect, ipython, python-dateutil, jupyter-core, pyzmq, jupyter-client, ipykernel, attrs, pyrsistent, zipp, importlib-metadata, jsonschema, nbformat, entrypoints, mistune, webencodings, bleach, defusedxml, pandocfilters, MarkupSafe, jinja2, testpath, nbconvert, prometheus-client, terminado, Send2Trash, notebook, tutormagic\n",
      "  Running setup.py install for tornado ... \u001b[?25ldone\n",
      "\u001b[?25h  Running setup.py install for backcall ... \u001b[?25ldone\n",
      "\u001b[?25h  Running setup.py install for pyrsistent ... \u001b[?25ldone\n",
      "\u001b[?25h  Running setup.py install for pandocfilters ... \u001b[?25ldone\n",
      "\u001b[?25h  Running setup.py install for prometheus-client ... \u001b[?25ldone\n",
      "\u001b[?25hSuccessfully installed MarkupSafe-1.1.1 Send2Trash-1.5.0 attrs-19.3.0 backcall-0.1.0 bleach-3.1.1 decorator-4.4.2 defusedxml-0.6.0 entrypoints-0.3 importlib-metadata-1.5.0 ipykernel-5.1.4 ipython-7.13.0 ipython-genutils-0.2.0 jedi-0.16.0 jinja2-2.11.1 jsonschema-3.2.0 jupyter-client-6.0.0 jupyter-core-4.6.3 mistune-0.8.4 nbconvert-5.6.1 nbformat-5.0.4 notebook-6.0.3 pandocfilters-1.4.2 parso-0.6.2 pexpect-4.8.0 pickleshare-0.7.5 prometheus-client-0.7.1 prompt-toolkit-3.0.3 ptyprocess-0.6.0 pygments-2.5.2 pyrsistent-0.15.7 python-dateutil-2.8.1 pyzmq-19.0.0 setuptools-45.2.0 six-1.14.0 terminado-0.8.3 testpath-0.4.4 tornado-6.0.4 traitlets-4.3.3 tutormagic-0.3.0 wcwidth-0.1.8 webencodings-0.5.1 zipp-3.1.0\n"
     ]
    }
   ],
   "source": [
    "!pip3 install tutormagic\n",
    "%load_ext tutormagic"
   ]
  },
  {
   "cell_type": "markdown",
   "metadata": {},
   "source": [
    "# ArrayList #"
   ]
  },
  {
   "cell_type": "markdown",
   "metadata": {},
   "source": [
    "**ArrayList** es una clase del API de Java que es similar a un array y que permite almacenar objetos. A diferencia de una array, el tamaño de un objeto ArrayList se ajusta automáticamente para acomodar el número de elementos almacenados en él. Algunas de sus principales caracteristicas son:\n",
    "* Un objeto ArrayList se expande automáticamente a medida que se agregan elementos.\n",
    "* Además de añadir elementos a un ArrayList, también es posible eliminarlos.\n",
    "* Un objeto ArrayList se reduce automáticamente a medida que se eliminan elementos de él.\n",
    "\n",
    "Para usar esta clase se requiere la siguiente sentencia de codigo:\n",
    "\n",
    "```java\n",
    "import java.util.ArrayList;\n",
    "```"
   ]
  },
  {
   "cell_type": "markdown",
   "metadata": {},
   "source": [
    "## Creando un ArrayList ##\n",
    "\n",
    "### Sintaxis ###\n",
    "\n",
    "```java\n",
    "ArrayList<Tipo> nameArrayList = new ArrayList<Tipo>();\n",
    "```\n",
    "\n",
    "**Ejemplos**\n",
    "\n",
    "```java\n",
    "ArrayList<String> nameList = new ArrayList<String>();\n",
    "ArrayList<Estudiante> al = new ArrayList<Estudiante>();\n",
    "```"
   ]
  },
  {
   "cell_type": "markdown",
   "metadata": {},
   "source": [
    "## Usando un ArrayList ##"
   ]
  },
  {
   "cell_type": "markdown",
   "metadata": {},
   "source": [
    "## Usando un ArrayList ##\n",
    "\n",
    "### Agregar elementos al ArrayList ###\n",
    "\n",
    "Para agregar elementos se usa el metodo **add**:\n",
    "  \n",
    "```java\n",
    "nameArrayList.add(element);\n",
    "```\n",
    "\n",
    "**Ejemplo**\n",
    "\n",
    "```java\n",
    "nameList.add(\"James\");\n",
    "nameList.add(\"Catherine\");\n",
    "```\n"
   ]
  },
  {
   "cell_type": "code",
   "execution_count": 4,
   "metadata": {},
   "outputs": [
    {
     "data": {
      "text/html": [
       "<div class=\"text-center\"><strong><a style=\"box-sizing: border-box; padding: 0 5px; border: 1px solid #CFCFCF;\" target=\"_\" href=http://pythontutor.com/iframe-embed.html#code=import%20java.util.ArrayList%3B%0A%0Apublic%20class%20ArrayListDemo%20%7B%0A%20%20public%20static%20void%20main%28String%5B%5D%20args%29%20%7B%0A%20%20%20%20ArrayList%3CString%3E%20cars%20%3D%20new%20ArrayList%3CString%3E%28%29%3B%0A%20%20%20%20cars.add%28%22Volvo%22%29%3B%0A%20%20%20%20cars.add%28%22BMW%22%29%3B%0A%20%20%20%20cars.add%28%22Ford%22%29%3B%0A%20%20%20%20cars.add%28%22Mazda%22%29%3B%0A%20%20%20%20System.out.println%28cars%29%3B%0A%20%20%7D%0A%7D%0A&origin=opt-frontend.js&cumulative=false&heapPrimitives=false&textReferences=false&curInstr=0&&verticalStack=false&py=java&rawInputLstJSON=%5B%5D&codeDivWidth=50%25&codeDivHeight=100%25>Python Tutor</a></strong></div>"
      ],
      "text/plain": [
       "<IPython.core.display.HTML object>"
      ]
     },
     "metadata": {},
     "output_type": "display_data"
    }
   ],
   "source": [
    "%%tutor -l java -k\n",
    "import java.util.ArrayList;\n",
    "\n",
    "public class ArrayListDemo {\n",
    "  public static void main(String[] args) {\n",
    "    ArrayList<String> cars = new ArrayList<String>();\n",
    "    cars.add(\"Volvo\");\n",
    "    cars.add(\"BMW\");\n",
    "    cars.add(\"Ford\");\n",
    "    cars.add(\"Mazda\");\n",
    "    System.out.println(cars);\n",
    "  }\n",
    "}"
   ]
  },
  {
   "cell_type": "code",
   "execution_count": 6,
   "metadata": {},
   "outputs": [
    {
     "data": {
      "text/html": [
       "<div class=\"text-center\"><strong><a style=\"box-sizing: border-box; padding: 0 5px; border: 1px solid #CFCFCF;\" target=\"_\" href=http://pythontutor.com/iframe-embed.html#code=import%20java.util.ArrayList%3B%20//%20Needed%20for%20ArrayList%20class%0A%0A/%2A%2A%0A%20%20%20This%20program%20demonstrates%20inserting%20an%20item.%0A%2A/%0A%0Apublic%20class%20ArrayListDemo4%0A%7B%0A%20%20%20public%20static%20void%20main%28String%5B%5D%20args%29%0A%20%20%20%7B%0A%20%20%20%20%20%20//%20Create%20an%20ArrayList%20to%20hold%20some%20names.%0A%20%20%20%20%20%20ArrayList%3CString%3E%20nameList%20%3D%20new%20ArrayList%3CString%3E%28%29%3B%0A%20%20%20%20%20%20%0A%20%20%20%20%20%20//%20Add%20some%20names%20to%20the%20ArrayList.%0A%20%20%20%20%20%20nameList.add%28%22James%22%29%3B%0A%20%20%20%20%20%20nameList.add%28%22Catherine%22%29%3B%0A%20%20%20%20%20%20nameList.add%28%22Bill%22%29%3B%0A%20%20%20%20%20%20%0A%20%20%20%20%20%20//%20Display%20the%20items%20in%20nameList%20and%20their%20indices.%0A%20%20%20%20%20%20for%20%28int%20index%20%3D%200%3B%20index%20%3C%20nameList.size%28%29%3B%20index%2B%2B%29%0A%20%20%20%20%20%20%7B%0A%20%20%20%20%20%20%20%20%20System.out.println%28%22Index%3A%20%22%20%2B%20index%20%2B%20%22%20Name%3A%20%22%20%2B%0A%20%20%20%20%20%20%20%20%20%20%20%20%20%20%20%20%20%20%20%20%20%20%20%20%20%20%20%20nameList.get%28index%29%29%3B%0A%20%20%20%20%20%20%7D%0A%20%20%20%20%20%20%0A%20%20%20%20%20%20//%20Now%20insert%20an%20%20item%20at%20index%201.%0A%20%20%20%20%20%20nameList.add%281%2C%20%22Mary%22%29%3B%0A%20%20%20%20%20%20%0A%20%20%20%20%20%20System.out.println%28%22Mary%20was%20added%20at%20index%201.%20%22%20%2B%0A%20%20%20%20%20%20%20%20%20%20%20%20%20%20%20%20%20%20%20%20%20%20%20%20%20%22Here%20are%20the%20items%20now.%22%29%3B%0A%20%20%20%20%20%20%20%20%20%20%20%20%20%20%20%20%20%20%20%20%20%20%20%20%20%0A%20%20%20%20%20%20//%20Display%20the%20items%20in%20nameList%20and%20their%20indices.%0A%20%20%20%20%20%20for%20%28int%20index%20%3D%200%3B%20index%20%3C%20nameList.size%28%29%3B%20index%2B%2B%29%0A%20%20%20%20%20%20%7B%0A%20%20%20%20%20%20%20%20%20System.out.println%28%22Index%3A%20%22%20%2B%20index%20%2B%20%22%20Name%3A%20%22%20%2B%0A%20%20%20%20%20%20%20%20%20%20%20%20%20%20%20%20%20%20%20%20%20%20%20%20%20%20%20%20nameList.get%28index%29%29%3B%0A%20%20%20%20%20%20%7D%0A%20%20%20%7D%0A%7D&origin=opt-frontend.js&cumulative=false&heapPrimitives=false&textReferences=false&curInstr=0&&verticalStack=false&py=java&rawInputLstJSON=%5B%5D&codeDivWidth=50%25&codeDivHeight=100%25>Python Tutor</a></strong></div>"
      ],
      "text/plain": [
       "<IPython.core.display.HTML object>"
      ]
     },
     "metadata": {},
     "output_type": "display_data"
    }
   ],
   "source": [
    "%%tutor -l java -k\n",
    "import java.util.ArrayList; // Needed for ArrayList class\n",
    "\n",
    "/**\n",
    "   This program demonstrates inserting an item.\n",
    "*/\n",
    "\n",
    "public class ArrayListDemo4\n",
    "{\n",
    "   public static void main(String[] args)\n",
    "   {\n",
    "      // Create an ArrayList to hold some names.\n",
    "      ArrayList<String> nameList = new ArrayList<String>();\n",
    "      \n",
    "      // Add some names to the ArrayList.\n",
    "      nameList.add(\"James\");\n",
    "      nameList.add(\"Catherine\");\n",
    "      nameList.add(\"Bill\");\n",
    "      \n",
    "      // Display the items in nameList and their indices.\n",
    "      for (int index = 0; index < nameList.size(); index++)\n",
    "      {\n",
    "         System.out.println(\"Index: \" + index + \" Name: \" +\n",
    "                            nameList.get(index));\n",
    "      }\n",
    "      \n",
    "      // Now insert an  item at index 1.\n",
    "      nameList.add(1, \"Mary\");\n",
    "      \n",
    "      System.out.println(\"Mary was added at index 1. \" +\n",
    "                         \"Here are the items now.\");\n",
    "                         \n",
    "      // Display the items in nameList and their indices.\n",
    "      for (int index = 0; index < nameList.size(); index++)\n",
    "      {\n",
    "         System.out.println(\"Index: \" + index + \" Name: \" +\n",
    "                            nameList.get(index));\n",
    "      }\n",
    "   }\n",
    "}"
   ]
  },
  {
   "cell_type": "markdown",
   "metadata": {},
   "source": [
    "### Obtener el tamaño ArrayList ### \n",
    "\n",
    "Para obtener tamaño se usa el metodo **size**:\n",
    "  \n",
    "```java\n",
    "nameArrayList.size();\n",
    "```\n",
    "\n",
    "**Ejemplo**\n",
    "\n",
    "```java\n",
    "nameList.size(); // returns 2\n",
    "```\n"
   ]
  },
  {
   "cell_type": "code",
   "execution_count": 5,
   "metadata": {},
   "outputs": [
    {
     "data": {
      "text/html": [
       "<div class=\"text-center\"><strong><a style=\"box-sizing: border-box; padding: 0 5px; border: 1px solid #CFCFCF;\" target=\"_\" href=http://pythontutor.com/iframe-embed.html#code=import%20java.util.ArrayList%3B%0A%0Apublic%20class%20ArrayListDemo%20%7B%20%0A%20%20public%20static%20void%20main%28String%5B%5D%20args%29%20%7B%20%0A%20%20%20%20ArrayList%3CString%3E%20cars%20%3D%20new%20ArrayList%3CString%3E%28%29%3B%0A%20%20%20%20cars.add%28%22Volvo%22%29%3B%0A%20%20%20%20cars.add%28%22BMW%22%29%3B%0A%20%20%20%20cars.add%28%22Ford%22%29%3B%0A%20%20%20%20cars.add%28%22Mazda%22%29%3B%0A%20%20%20%20System.out.println%28cars.size%28%29%29%3B%0A%20%20%7D%20%0A%7D%0A&origin=opt-frontend.js&cumulative=false&heapPrimitives=false&textReferences=false&curInstr=0&&verticalStack=false&py=java&rawInputLstJSON=%5B%5D&codeDivWidth=50%25&codeDivHeight=100%25>Python Tutor</a></strong></div>"
      ],
      "text/plain": [
       "<IPython.core.display.HTML object>"
      ]
     },
     "metadata": {},
     "output_type": "display_data"
    }
   ],
   "source": [
    "%%tutor -l java -k\n",
    "import java.util.ArrayList;\n",
    "\n",
    "public class ArrayListDemo { \n",
    "  public static void main(String[] args) { \n",
    "    ArrayList<String> cars = new ArrayList<String>();\n",
    "    cars.add(\"Volvo\");\n",
    "    cars.add(\"BMW\");\n",
    "    cars.add(\"Ford\");\n",
    "    cars.add(\"Mazda\");\n",
    "    System.out.println(cars.size());\n",
    "  } \n",
    "}"
   ]
  },
  {
   "cell_type": "markdown",
   "metadata": {},
   "source": [
    "### Obtener un elemento del ArrayList ###\n",
    "\n",
    "Para obtener un elemento de un ArrayList se usa el metodo **get** pasando como parametro el indice del elemento a recuperar:\n",
    "\n",
    "```java\n",
    "nameArrayList.get(index);\n",
    "```\n",
    "\n",
    "**Ejemplo**:\n",
    "\n",
    "```java\n",
    "nameList.get(1);\n",
    "```"
   ]
  },
  {
   "cell_type": "code",
   "execution_count": 6,
   "metadata": {},
   "outputs": [
    {
     "data": {
      "text/html": [
       "<div class=\"text-center\"><strong><a style=\"box-sizing: border-box; padding: 0 5px; border: 1px solid #CFCFCF;\" target=\"_\" href=http://pythontutor.com/iframe-embed.html#code=import%20java.util.ArrayList%3B%0A%0Apublic%20class%20ArrayListDemo%20%7B%20%0A%20%20public%20static%20void%20main%28String%5B%5D%20args%29%20%7B%20%0A%20%20%20%20ArrayList%3CString%3E%20cars%20%3D%20new%20ArrayList%3CString%3E%28%29%3B%0A%20%20%20%20cars.add%28%22Volvo%22%29%3B%0A%20%20%20%20cars.add%28%22BMW%22%29%3B%0A%20%20%20%20cars.add%28%22Ford%22%29%3B%0A%20%20%20%20cars.add%28%22Mazda%22%29%3B%0A%20%20%20%20System.out.println%28cars.get%280%29%29%3B%0A%20%20%7D%20%0A%7D%0A&origin=opt-frontend.js&cumulative=false&heapPrimitives=false&textReferences=false&curInstr=0&&verticalStack=false&py=java&rawInputLstJSON=%5B%5D&codeDivWidth=50%25&codeDivHeight=100%25>Python Tutor</a></strong></div>"
      ],
      "text/plain": [
       "<IPython.core.display.HTML object>"
      ]
     },
     "metadata": {},
     "output_type": "display_data"
    }
   ],
   "source": [
    "%%tutor -l java -k\n",
    "import java.util.ArrayList;\n",
    "\n",
    "public class ArrayListDemo { \n",
    "  public static void main(String[] args) { \n",
    "    ArrayList<String> cars = new ArrayList<String>();\n",
    "    cars.add(\"Volvo\");\n",
    "    cars.add(\"BMW\");\n",
    "    cars.add(\"Ford\");\n",
    "    cars.add(\"Mazda\");\n",
    "    System.out.println(cars.get(0));\n",
    "  } \n",
    "}"
   ]
  },
  {
   "cell_type": "markdown",
   "metadata": {},
   "source": [
    "### Modificar un elemento del ArrayList ###\n",
    "Para modificat un elemento de un ArrayList se usa el metodo **set** pasando como parametro el indice y el elemento a asignar\n",
    "\n",
    "\n",
    "```java\n",
    "nameArrayList.set(index, element);\n",
    "```\n",
    "\n",
    "\n",
    "**Ejemplo**:\n",
    "\n",
    "```java\n",
    "nameList.set(1,\"Lupita\");\n",
    "```"
   ]
  },
  {
   "cell_type": "code",
   "execution_count": 8,
   "metadata": {},
   "outputs": [
    {
     "data": {
      "text/html": [
       "<div class=\"text-center\"><strong><a style=\"box-sizing: border-box; padding: 0 5px; border: 1px solid #CFCFCF;\" target=\"_\" href=http://pythontutor.com/iframe-embed.html#code=import%20java.util.ArrayList%3B%0A%0Apublic%20class%20ArrayListDemo%20%7B%20%0A%20%20public%20static%20void%20main%28String%5B%5D%20args%29%20%7B%20%0A%20%20%20%20ArrayList%3CString%3E%20cars%20%3D%20new%20ArrayList%3CString%3E%28%29%3B%0A%20%20%20%20cars.add%28%22Volvo%22%29%3B%0A%20%20%20%20cars.add%28%22BMW%22%29%3B%0A%20%20%20%20cars.add%28%22Ford%22%29%3B%0A%20%20%20%20cars.add%28%22Mazda%22%29%3B%0A%20%20%20%20cars.set%280%2C%20%22Opel%22%29%3B%0A%20%20%20%20System.out.println%28cars%29%3B%0A%20%20%7D%20%0A%7D%0A&origin=opt-frontend.js&cumulative=false&heapPrimitives=false&textReferences=false&curInstr=0&&verticalStack=false&py=java&rawInputLstJSON=%5B%5D&codeDivWidth=50%25&codeDivHeight=100%25>Python Tutor</a></strong></div>"
      ],
      "text/plain": [
       "<IPython.core.display.HTML object>"
      ]
     },
     "metadata": {},
     "output_type": "display_data"
    }
   ],
   "source": [
    "%%tutor -l java -k\n",
    "import java.util.ArrayList;\n",
    "\n",
    "public class ArrayListDemo { \n",
    "  public static void main(String[] args) { \n",
    "    ArrayList<String> cars = new ArrayList<String>();\n",
    "    cars.add(\"Volvo\");\n",
    "    cars.add(\"BMW\");\n",
    "    cars.add(\"Ford\");\n",
    "    cars.add(\"Mazda\");\n",
    "    cars.set(0, \"Opel\");\n",
    "    System.out.println(cars);\n",
    "  } \n",
    "}"
   ]
  },
  {
   "cell_type": "markdown",
   "metadata": {},
   "source": [
    "### Eliminar un elemento de un ArrayList ###\n",
    "\n",
    "Para eliminar un elemento de un ArrayList se usa el metodo **remove** pasando como argumento el indice del elemento a eliminar:\n",
    "\n",
    "```java\n",
    "nameArrayList.remove(index);\n",
    "```\n",
    "\n",
    "**Ejemplo**\n",
    "\n",
    "```java\n",
    "nameList.remove(0);\n",
    "nameList.add(\"Catherine\");\n",
    "```"
   ]
  },
  {
   "cell_type": "code",
   "execution_count": 9,
   "metadata": {},
   "outputs": [
    {
     "data": {
      "text/html": [
       "<div class=\"text-center\"><strong><a style=\"box-sizing: border-box; padding: 0 5px; border: 1px solid #CFCFCF;\" target=\"_\" href=http://pythontutor.com/iframe-embed.html#code=import%20java.util.ArrayList%3B%0A%0Apublic%20class%20ArrayListDemo%20%7B%20%0A%20%20public%20static%20void%20main%28String%5B%5D%20args%29%20%7B%20%0A%20%20%20%20ArrayList%3CString%3E%20cars%20%3D%20new%20ArrayList%3CString%3E%28%29%3B%0A%20%20%20%20cars.add%28%22Volvo%22%29%3B%0A%20%20%20%20cars.add%28%22BMW%22%29%3B%0A%20%20%20%20cars.add%28%22Ford%22%29%3B%0A%20%20%20%20cars.add%28%22Mazda%22%29%3B%0A%20%20%20%20cars.remove%280%29%3B%0A%20%20%20%20System.out.println%28cars%29%3B%0A%20%20%7D%20%0A%7D%0A&origin=opt-frontend.js&cumulative=false&heapPrimitives=false&textReferences=false&curInstr=0&&verticalStack=false&py=java&rawInputLstJSON=%5B%5D&codeDivWidth=50%25&codeDivHeight=100%25>Python Tutor</a></strong></div>"
      ],
      "text/plain": [
       "<IPython.core.display.HTML object>"
      ]
     },
     "metadata": {},
     "output_type": "display_data"
    }
   ],
   "source": [
    "%%tutor -l java -k\n",
    "import java.util.ArrayList;\n",
    "\n",
    "public class ArrayListDemo { \n",
    "  public static void main(String[] args) { \n",
    "    ArrayList<String> cars = new ArrayList<String>();\n",
    "    cars.add(\"Volvo\");\n",
    "    cars.add(\"BMW\");\n",
    "    cars.add(\"Ford\");\n",
    "    cars.add(\"Mazda\");\n",
    "    cars.remove(0);\n",
    "    System.out.println(cars);\n",
    "  } \n",
    "}"
   ]
  },
  {
   "cell_type": "code",
   "execution_count": 4,
   "metadata": {},
   "outputs": [
    {
     "data": {
      "text/html": [
       "<div class=\"text-center\"><strong><a style=\"box-sizing: border-box; padding: 0 5px; border: 1px solid #CFCFCF;\" target=\"_\" href=http://pythontutor.com/iframe-embed.html#code=import%20java.util.ArrayList%3B%20//%20Needed%20for%20ArrayList%20class%0A%0A/%2A%2A%0A%20%20%20This%20program%20demonstrates%20an%20ArrayList.%0A%2A/%0A%0Apublic%20class%20ArrayListDemo3%0A%7B%0A%20%20%20public%20static%20void%20main%28String%5B%5D%20args%29%0A%20%20%20%7B%0A%20%20%20%20%20%20//%20Create%20an%20ArrayList%20to%20hold%20some%20names.%0A%20%20%20%20%20%20ArrayList%3CString%3E%20nameList%20%3D%20new%20ArrayList%3CString%3E%28%29%3B%0A%20%20%20%20%20%20%0A%20%20%20%20%20%20//%20Add%20some%20names%20to%20the%20ArrayList.%0A%20%20%20%20%20%20nameList.add%28%22James%22%29%3B%0A%20%20%20%20%20%20nameList.add%28%22Catherine%22%29%3B%0A%20%20%20%20%20%20nameList.add%28%22Bill%22%29%3B%0A%20%20%20%20%20%20%0A%20%20%20%20%20%20//%20Display%20the%20items%20in%20nameList%20and%20their%20indices.%0A%20%20%20%20%20%20for%20%28int%20index%20%3D%200%3B%20index%20%3C%20nameList.size%28%29%3B%20index%2B%2B%29%0A%20%20%20%20%20%20%7B%0A%20%20%20%20%20%20%20%20%20System.out.println%28%22Index%3A%20%22%20%2B%20index%20%2B%20%22%20Name%3A%20%22%20%2B%0A%20%20%20%20%20%20%20%20%20%20%20%20%20%20%20%20%20%20%20%20%20%20%20%20%20%20%20%20nameList.get%28index%29%29%3B%0A%20%20%20%20%20%20%7D%0A%20%20%20%20%20%20%0A%20%20%20%20%20%20//%20Now%20remove%20the%20item%20at%20index%201.%0A%20%20%20%20%20%20nameList.remove%281%29%3B%0A%20%20%20%20%20%20%0A%20%20%20%20%20%20System.out.println%28%22The%20item%20at%20index%201%20is%20removed.%20%22%20%2B%0A%20%20%20%20%20%20%20%20%20%20%20%20%20%20%20%20%20%20%20%20%20%20%20%20%20%22Here%20are%20the%20items%20now.%22%29%3B%0A%20%20%20%20%20%20%20%20%20%20%20%20%20%20%20%20%20%20%20%20%20%20%20%20%20%0A%20%20%20%20%20%20//%20Display%20the%20items%20in%20nameList%20and%20their%20indices.%0A%20%20%20%20%20%20for%20%28int%20index%20%3D%200%3B%20index%20%3C%20nameList.size%28%29%3B%20index%2B%2B%29%0A%20%20%20%20%20%20%7B%0A%20%20%20%20%20%20%20%20%20System.out.println%28%22Index%3A%20%22%20%2B%20index%20%2B%20%22%20Name%3A%20%22%20%2B%0A%20%20%20%20%20%20%20%20%20%20%20%20%20%20%20%20%20%20%20%20%20%20%20%20%20%20%20%20nameList.get%28index%29%29%3B%0A%20%20%20%20%20%20%7D%0A%20%20%20%7D%0A%7D&origin=opt-frontend.js&cumulative=false&heapPrimitives=false&textReferences=false&curInstr=0&&verticalStack=false&py=java&rawInputLstJSON=%5B%5D&codeDivWidth=50%25&codeDivHeight=100%25>Python Tutor</a></strong></div>"
      ],
      "text/plain": [
       "<IPython.core.display.HTML object>"
      ]
     },
     "metadata": {},
     "output_type": "display_data"
    }
   ],
   "source": [
    "%%tutor -l java -k\n",
    "import java.util.ArrayList; // Needed for ArrayList class\n",
    "\n",
    "/**\n",
    "   This program demonstrates an ArrayList.\n",
    "*/\n",
    "\n",
    "public class ArrayListDemo3\n",
    "{\n",
    "   public static void main(String[] args)\n",
    "   {\n",
    "      // Create an ArrayList to hold some names.\n",
    "      ArrayList<String> nameList = new ArrayList<String>();\n",
    "      \n",
    "      // Add some names to the ArrayList.\n",
    "      nameList.add(\"James\");\n",
    "      nameList.add(\"Catherine\");\n",
    "      nameList.add(\"Bill\");\n",
    "      \n",
    "      // Display the items in nameList and their indices.\n",
    "      for (int index = 0; index < nameList.size(); index++)\n",
    "      {\n",
    "         System.out.println(\"Index: \" + index + \" Name: \" +\n",
    "                            nameList.get(index));\n",
    "      }\n",
    "      \n",
    "      // Now remove the item at index 1.\n",
    "      nameList.remove(1);\n",
    "      \n",
    "      System.out.println(\"The item at index 1 is removed. \" +\n",
    "                         \"Here are the items now.\");\n",
    "                         \n",
    "      // Display the items in nameList and their indices.\n",
    "      for (int index = 0; index < nameList.size(); index++)\n",
    "      {\n",
    "         System.out.println(\"Index: \" + index + \" Name: \" +\n",
    "                            nameList.get(index));\n",
    "      }\n",
    "   }\n",
    "}"
   ]
  },
  {
   "cell_type": "markdown",
   "metadata": {},
   "source": [
    "### Eliminar todos los elementos de un ArrayList ###\n",
    "\n",
    "Para eliminar todos los elemento de un ArrayList se usa el metodo **clear**:\n",
    "\n",
    "```java\n",
    "nameArrayList.clear();\n",
    "```\n",
    "\n",
    "**Ejemplo**\n",
    "\n",
    "```java\n",
    "nameList.clear();\n",
    "```"
   ]
  },
  {
   "cell_type": "code",
   "execution_count": 10,
   "metadata": {},
   "outputs": [
    {
     "data": {
      "text/html": [
       "<div class=\"text-center\"><strong><a style=\"box-sizing: border-box; padding: 0 5px; border: 1px solid #CFCFCF;\" target=\"_\" href=http://pythontutor.com/iframe-embed.html#code=%0Aimport%20java.util.ArrayList%3B%0A%0Apublic%20class%20ArrayListDemo%20%7B%20%0A%20%20public%20static%20void%20main%28String%5B%5D%20args%29%20%7B%20%0A%20%20%20%20ArrayList%3CString%3E%20cars%20%3D%20new%20ArrayList%3CString%3E%28%29%3B%0A%20%20%20%20cars.add%28%22Volvo%22%29%3B%0A%20%20%20%20cars.add%28%22BMW%22%29%3B%0A%20%20%20%20cars.add%28%22Ford%22%29%3B%0A%20%20%20%20cars.add%28%22Mazda%22%29%3B%0A%20%20%20%20cars.clear%28%29%3B%0A%20%20%20%20System.out.println%28cars%29%3B%0A%20%20%7D%20%0A%7D%0A&origin=opt-frontend.js&cumulative=false&heapPrimitives=false&textReferences=false&curInstr=0&&verticalStack=false&py=java&rawInputLstJSON=%5B%5D&codeDivWidth=50%25&codeDivHeight=100%25>Python Tutor</a></strong></div>"
      ],
      "text/plain": [
       "<IPython.core.display.HTML object>"
      ]
     },
     "metadata": {},
     "output_type": "display_data"
    }
   ],
   "source": [
    "%%tutor -l java -k\n",
    "\n",
    "import java.util.ArrayList;\n",
    "\n",
    "public class ArrayListDemo { \n",
    "  public static void main(String[] args) { \n",
    "    ArrayList<String> cars = new ArrayList<String>();\n",
    "    cars.add(\"Volvo\");\n",
    "    cars.add(\"BMW\");\n",
    "    cars.add(\"Ford\");\n",
    "    cars.add(\"Mazda\");\n",
    "    cars.clear();\n",
    "    System.out.println(cars);\n",
    "  } \n",
    "}\n"
   ]
  },
  {
   "cell_type": "markdown",
   "metadata": {},
   "source": [
    "### Empleando ciclos en un ArrayList###\n",
    "Es posible moverse a traves de los diferentes elementos de un ArrayList empleando un ciclo **for** y usando el metodo **size()** para especificat que tantas veces podria correr el ciclo."
   ]
  },
  {
   "cell_type": "code",
   "execution_count": 11,
   "metadata": {},
   "outputs": [
    {
     "data": {
      "text/html": [
       "<div class=\"text-center\"><strong><a style=\"box-sizing: border-box; padding: 0 5px; border: 1px solid #CFCFCF;\" target=\"_\" href=http://pythontutor.com/iframe-embed.html#code=import%20java.util.ArrayList%3B%20//%20Needed%20for%20ArrayList%20class%0A%0A/%2A%2A%0A%20%20%20This%20program%20demonstrates%20an%20ArrayList.%0A%2A/%0A%0Apublic%20class%20ArrayListDemo1%0A%7B%0A%20%20%20public%20static%20void%20main%28String%5B%5D%20args%29%0A%20%20%20%7B%0A%20%20%20%20%20%20//%20Create%20an%20ArrayList%20to%20hold%20some%20names.%0A%20%20%20%20%20%20ArrayList%3CString%3E%20nameList%20%3D%20new%20ArrayList%3CString%3E%28%29%3B%0A%20%20%20%20%20%20%0A%20%20%20%20%20%20//%20Add%20some%20names%20to%20the%20ArrayList.%0A%20%20%20%20%20%20nameList.add%28%22James%22%29%3B%0A%20%20%20%20%20%20nameList.add%28%22Catherine%22%29%3B%0A%20%20%20%20%20%20nameList.add%28%22Bill%22%29%3B%0A%20%20%20%20%20%20%0A%20%20%20%20%20%20//%20Display%20the%20size%20of%20the%20ArrayList.%0A%20%20%20%20%20%20System.out.println%28%22The%20ArrayList%20has%20%22%20%2B%0A%20%20%20%20%20%20%20%20%20%20%20%20%20%20%20%20%20%20%20%20%20%20%20%20%20nameList.size%28%29%20%2B%0A%20%20%20%20%20%20%20%20%20%20%20%20%20%20%20%20%20%20%20%20%20%20%20%20%20%22%20objects%20stored%20in%20it.%22%29%3B%0A%0A%20%20%20%20%20%20//%20Now%20display%20the%20items%20in%20nameList.%0A%20%20%20%20%20%20for%20%28int%20index%20%3D%200%3B%20index%20%3C%20nameList.size%28%29%3B%20index%2B%2B%29%0A%20%20%20%20%20%20%20%20%20System.out.println%28nameList.get%28index%29%29%3B%0A%20%20%20%7D%0A%7D%0A&origin=opt-frontend.js&cumulative=false&heapPrimitives=false&textReferences=false&curInstr=0&&verticalStack=false&py=java&rawInputLstJSON=%5B%5D&codeDivWidth=50%25&codeDivHeight=100%25>Python Tutor</a></strong></div>"
      ],
      "text/plain": [
       "<IPython.core.display.HTML object>"
      ]
     },
     "metadata": {},
     "output_type": "display_data"
    }
   ],
   "source": [
    "%%tutor -l java -k\n",
    "import java.util.ArrayList; // Needed for ArrayList class\n",
    "\n",
    "/**\n",
    "   This program demonstrates an ArrayList.\n",
    "*/\n",
    "\n",
    "public class ArrayListDemo1\n",
    "{\n",
    "   public static void main(String[] args)\n",
    "   {\n",
    "      // Create an ArrayList to hold some names.\n",
    "      ArrayList<String> nameList = new ArrayList<String>();\n",
    "      \n",
    "      // Add some names to the ArrayList.\n",
    "      nameList.add(\"James\");\n",
    "      nameList.add(\"Catherine\");\n",
    "      nameList.add(\"Bill\");\n",
    "      \n",
    "      // Display the size of the ArrayList.\n",
    "      System.out.println(\"The ArrayList has \" +\n",
    "                         nameList.size() +\n",
    "                         \" objects stored in it.\");\n",
    "\n",
    "      // Now display the items in nameList.\n",
    "      for (int index = 0; index < nameList.size(); index++)\n",
    "         System.out.println(nameList.get(index));\n",
    "   }\n",
    "}"
   ]
  },
  {
   "cell_type": "markdown",
   "metadata": {},
   "source": [
    "Tambien es posible interar a traves de un ArrayList con un ciclo **for-each**"
   ]
  },
  {
   "cell_type": "code",
   "execution_count": 12,
   "metadata": {},
   "outputs": [
    {
     "data": {
      "text/html": [
       "<div class=\"text-center\"><strong><a style=\"box-sizing: border-box; padding: 0 5px; border: 1px solid #CFCFCF;\" target=\"_\" href=http://pythontutor.com/iframe-embed.html#code=%0Aimport%20java.util.ArrayList%3B%20//%20Needed%20for%20ArrayList%20class%0A%0A/%2A%2A%0A%20%20%20This%20program%20demonstrates%20how%20the%20enhanced%20for%20loop%0A%20%20%20can%20be%20used%20with%20an%20ArrayList.%0A%2A/%0A%0Apublic%20class%20ArrayListDemo2%0A%7B%0A%20%20%20public%20static%20void%20main%28String%5B%5D%20args%29%0A%20%20%20%7B%0A%20%20%20%20%20%20//%20Create%20an%20ArrayList%20to%20hold%20some%20names.%0A%20%20%20%20%20%20ArrayList%3CString%3E%20nameList%20%3D%20new%20ArrayList%3CString%3E%28%29%3B%0A%20%20%20%20%20%20%0A%20%20%20%20%20%20//%20Add%20some%20names%20to%20the%20ArrayList.%0A%20%20%20%20%20%20nameList.add%28%22James%22%29%3B%0A%20%20%20%20%20%20nameList.add%28%22Catherine%22%29%3B%0A%20%20%20%20%20%20nameList.add%28%22Bill%22%29%3B%0A%20%20%20%20%20%20%0A%20%20%20%20%20%20//%20Display%20the%20size%20of%20the%20ArrayList.%0A%20%20%20%20%20%20System.out.println%28%22The%20ArrayList%20has%20%22%20%2B%0A%20%20%20%20%20%20%20%20%20%20%20%20%20%20%20%20%20%20%20%20%20%20%20%20%20nameList.size%28%29%20%2B%0A%20%20%20%20%20%20%20%20%20%20%20%20%20%20%20%20%20%20%20%20%20%20%20%20%20%22%20objects%20stored%20in%20it.%22%29%3B%0A%0A%20%20%20%20%20%20//%20Now%20display%20the%20items%20in%20nameList.%0A%20%20%20%20%20%20for%20%28String%20name%20%3A%20nameList%29%0A%20%20%20%20%20%20%20%20%20System.out.println%28name%29%3B%0A%20%20%20%7D%0A%7D%0A&origin=opt-frontend.js&cumulative=false&heapPrimitives=false&textReferences=false&curInstr=0&&verticalStack=false&py=java&rawInputLstJSON=%5B%5D&codeDivWidth=50%25&codeDivHeight=100%25>Python Tutor</a></strong></div>"
      ],
      "text/plain": [
       "<IPython.core.display.HTML object>"
      ]
     },
     "metadata": {},
     "output_type": "display_data"
    }
   ],
   "source": [
    "%%tutor -l java -k\n",
    "\n",
    "import java.util.ArrayList; // Needed for ArrayList class\n",
    "\n",
    "/**\n",
    "   This program demonstrates how the enhanced for loop\n",
    "   can be used with an ArrayList.\n",
    "*/\n",
    "\n",
    "public class ArrayListDemo2\n",
    "{\n",
    "   public static void main(String[] args)\n",
    "   {\n",
    "      // Create an ArrayList to hold some names.\n",
    "      ArrayList<String> nameList = new ArrayList<String>();\n",
    "      \n",
    "      // Add some names to the ArrayList.\n",
    "      nameList.add(\"James\");\n",
    "      nameList.add(\"Catherine\");\n",
    "      nameList.add(\"Bill\");\n",
    "      \n",
    "      // Display the size of the ArrayList.\n",
    "      System.out.println(\"The ArrayList has \" +\n",
    "                         nameList.size() +\n",
    "                         \" objects stored in it.\");\n",
    "\n",
    "      // Now display the items in nameList.\n",
    "      for (String name : nameList)\n",
    "         System.out.println(name);\n",
    "   }\n",
    "}"
   ]
  },
  {
   "cell_type": "markdown",
   "metadata": {},
   "source": [
    "### Imprimiendo los elementos de un ArrayList ###\n",
    "\n",
    "La clase ArrayList posee el metodo **toString** el cual retorna una representación como string de todos los elementos del ArrayList:\n",
    "\n",
    "**Ejemplo**\n",
    "Si se usa la siguiente sentencia:\n",
    "\n",
    "```java\n",
    "System.out.println(nameList);\n",
    "```\n",
    "\n",
    "La salida será:\n",
    "\n",
    "```java\n",
    "[ James, Catherine ]\n",
    "```"
   ]
  },
  {
   "cell_type": "code",
   "execution_count": 7,
   "metadata": {},
   "outputs": [
    {
     "data": {
      "text/html": [
       "<div class=\"text-center\"><strong><a style=\"box-sizing: border-box; padding: 0 5px; border: 1px solid #CFCFCF;\" target=\"_\" href=http://pythontutor.com/iframe-embed.html#code=import%20java.util.ArrayList%3B%20//%20Needed%20for%20ArrayList%20class%0A%0A/%2A%2A%0A%20%20%20This%20program%20demonstrates%20replacing%20an%20item.%0A%2A/%0A%0Apublic%20class%20ArrayListDemo5%0A%7B%0A%20%20%20public%20static%20void%20main%28String%5B%5D%20args%29%0A%20%20%20%7B%0A%20%20%20%20%20%20//%20Create%20an%20ArrayList%20to%20hold%20some%20names.%0A%20%20%20%20%20%20ArrayList%3CString%3E%20nameList%20%3D%20new%20ArrayList%3CString%3E%28%29%3B%0A%20%20%20%20%20%20%0A%20%20%20%20%20%20//%20Add%20some%20names%20to%20the%20ArrayList.%0A%20%20%20%20%20%20nameList.add%28%22James%22%29%3B%0A%20%20%20%20%20%20nameList.add%28%22Catherine%22%29%3B%0A%20%20%20%20%20%20nameList.add%28%22Bill%22%29%3B%0A%20%20%20%20%20%20%0A%20%20%20%20%20%20//%20Display%20the%20items%20in%20nameList%20and%20their%20indices.%0A%20%20%20%20%20%20for%20%28int%20index%20%3D%200%3B%20index%20%3C%20nameList.size%28%29%3B%20index%2B%2B%29%0A%20%20%20%20%20%20%7B%0A%20%20%20%20%20%20%20%20%20System.out.println%28%22Index%3A%20%22%20%2B%20index%20%2B%20%22%20Name%3A%20%22%20%2B%0A%20%20%20%20%20%20%20%20%20%20%20%20%20%20%20%20%20%20%20%20%20%20%20%20%20%20%20%20nameList.get%28index%29%29%3B%0A%20%20%20%20%20%20%7D%0A%20%20%20%20%20%20%0A%20%20%20%20%20%20//%20Now%20replace%20the%20item%20at%20index%201.%0A%20%20%20%20%20%20nameList.set%281%2C%20%22Becky%22%29%3B%0A%20%20%20%20%20%20%0A%20%20%20%20%20%20System.out.println%28%22Catherine%20was%20replaced%20with%20Becky.%20%22%20%2B%0A%20%20%20%20%20%20%20%20%20%20%20%20%20%20%20%20%20%20%20%20%20%20%20%20%20%22Here%20are%20the%20items%20now.%22%29%3B%0A%20%20%20%20%20%20%20%20%20%20%20%20%20%20%20%20%20%20%20%20%20%20%20%20%20%0A%20%20%20%20%20%20//%20Display%20the%20items%20in%20nameList%20and%20their%20indices.%0A%20%20%20%20%20%20for%20%28int%20index%20%3D%200%3B%20index%20%3C%20nameList.size%28%29%3B%20index%2B%2B%29%0A%20%20%20%20%20%20%7B%0A%20%20%20%20%20%20%20%20%20System.out.println%28%22Index%3A%20%22%20%2B%20index%20%2B%20%22%20Name%3A%20%22%20%2B%0A%20%20%20%20%20%20%20%20%20%20%20%20%20%20%20%20%20%20%20%20%20%20%20%20%20%20%20%20nameList.get%28index%29%29%3B%0A%20%20%20%20%20%20%7D%0A%20%20%20%7D%0A%7D&origin=opt-frontend.js&cumulative=false&heapPrimitives=false&textReferences=false&curInstr=0&&verticalStack=false&py=java&rawInputLstJSON=%5B%5D&codeDivWidth=50%25&codeDivHeight=100%25>Python Tutor</a></strong></div>"
      ],
      "text/plain": [
       "<IPython.core.display.HTML object>"
      ]
     },
     "metadata": {},
     "output_type": "display_data"
    }
   ],
   "source": [
    "%%tutor -l java -k\n",
    "import java.util.ArrayList; // Needed for ArrayList class\n",
    "\n",
    "/**\n",
    "   This program demonstrates replacing an item.\n",
    "*/\n",
    "\n",
    "public class ArrayListDemo5\n",
    "{\n",
    "   public static void main(String[] args)\n",
    "   {\n",
    "      // Create an ArrayList to hold some names.\n",
    "      ArrayList<String> nameList = new ArrayList<String>();\n",
    "      \n",
    "      // Add some names to the ArrayList.\n",
    "      nameList.add(\"James\");\n",
    "      nameList.add(\"Catherine\");\n",
    "      nameList.add(\"Bill\");\n",
    "      \n",
    "      // Display the items in nameList and their indices.\n",
    "      for (int index = 0; index < nameList.size(); index++)\n",
    "      {\n",
    "         System.out.println(\"Index: \" + index + \" Name: \" +\n",
    "                            nameList.get(index));\n",
    "      }\n",
    "      \n",
    "      // Now replace the item at index 1.\n",
    "      nameList.set(1, \"Becky\");\n",
    "      \n",
    "      System.out.println(\"Catherine was replaced with Becky. \" +\n",
    "                         \"Here are the items now.\");\n",
    "                         \n",
    "      // Display the items in nameList and their indices.\n",
    "      for (int index = 0; index < nameList.size(); index++)\n",
    "      {\n",
    "         System.out.println(\"Index: \" + index + \" Name: \" +\n",
    "                            nameList.get(index));\n",
    "      }\n",
    "   }\n",
    "}"
   ]
  },
  {
   "cell_type": "markdown",
   "metadata": {},
   "source": [
    "## Algoritmos de las colecciones ##\n",
    "Las colecciones cuentan con varios algoritmos de alto rendimiento para manipular los elementos de una colección. La siguiente figura muestra estos métodos:\n",
    "\n",
    "![collections](collections.jpg)\n",
    "\n",
    "\n",
    "Estos algoritmos se implementan como métodos static de la clase Collections. Los algoritmos sort, binarySearch, reverse, shuffle, fill y copy operan con objetos List. Los algoritmos min, max, addAll, frequency y disjoint operan con objetos Collections siendo los ArrayList uno de estos. La siguiente tabla describe algunos de estos métodos:\n",
    "\n",
    "| Algoritmo  | Descripción |\n",
    "| :-------------|:-----|\n",
    "| sort    | Ordena los elementos de un objeto List|\n",
    "| binarySearch    | Localiza un objeto en un objeto List|\n",
    "| reverse | Invierte los elementos de un objeto List.| \n",
    "| shuffle | Ordena al azar los elementos de un objeto List.| \n",
    "| fill | Establece cada elemento de un objeto List para que haga referencia a un objeto especificado.| \n",
    "| copy | Copia referencias de un objeto List a otro.| \n",
    "| min | Devuelve el elemento más pequeño en un objeto Collection.| \n",
    "| max | Devuelve el elemento más grande en un objeto Collection.\n",
    "| addAll | Anexa todos los elementos en un arreglo a una colección.\n",
    "| frequency | Calcula cuántos elementos en la colección son iguales al elemento especificado.\n",
    "| disjoint | Determina si dos colecciones no tienen elementos en común\n"
   ]
  },
  {
   "cell_type": "code",
   "execution_count": 38,
   "metadata": {},
   "outputs": [
    {
     "data": {
      "text/html": [
       "<div class=\"text-center\"><strong><a style=\"box-sizing: border-box; padding: 0 5px; border: 1px solid #CFCFCF;\" target=\"_\" href=http://pythontutor.com/iframe-embed.html#code=%0Aimport%20java.util.ArrayList%3B%0Aimport%20java.util.Collections%3B%0A%0Apublic%20class%20ArrayListDemo%20%7B%0A%20%20%20public%20static%20void%20main%28String%5B%5D%20args%29%20%7B%0A%20%20%20%20%20%20%20%0A%20%20%20%20%20%20int%5B%5D%20initialNumbers%20%3D%20%7B-3%2C%200%2C%20100%7D%3B%20%0A%20%20%20%20%20%20ArrayList%3CInteger%3E%20numbers%20%3D%20new%20ArrayList%3CInteger%3E%28%29%3B%0A%20%20%20%20%20%20numbers.add%281%29%3B%0A%20%20%20%20%20%20numbers.add%28-1%29%3B%0A%20%20%20%20%20%20numbers.add%2813%29%3B%0A%20%20%20%20%20%20for%20%28int%20number%3A%20initialNumbers%29%20%7B%0A%20%20%20%20%20%20%20%20%20%20numbers.add%28number%29%3B%0A%20%20%20%20%20%20%7D%0A%20%20%20%20%20%20numbers.add%285%29%3B%0A%20%20%20%20%20%20System.out.println%28numbers%29%3B%0A%20%20%20%20%20%20%20%0A%20%20%20%20%20%20Collections.shuffle%28numbers%29%3B%0A%20%20%20%20%20%20System.out.println%28numbers%29%3B%20%0A%20%20%20%20%20%20%20%0A%20%20%20%20%20%20int%20index%20%3D%20Collections.binarySearch%28numbers%2C%20100%29%3B%20%0A%20%20%20%20%20%20System.out.println%28index%29%3B%20%0A%20%20%20%20%20%20%20%0A%20%20%20%20%20%20Collections.sort%28numbers%29%3B%0A%20%20%20%20%20%20System.out.println%28numbers%29%3B%20%0A%20%20%20%20%20%20%20%0A%20%20%20%20%20%20Collections.reverse%28numbers%29%3B%20%0A%20%20%20%20%20%20System.out.println%28numbers%29%3B%20%20%0A%20%20%20%20%0A%20%20%20%20%20%20int%20maximo%2C%20minimo%3B%0A%20%20%20%20%20%20maximo%20%3D%20Collections.max%28numbers%29%3B%0A%20%20%20%20%20%20minimo%20%3DCollections.min%28numbers%29%3B%0A%20%20%20%20%20%20%20%0A%20%20%20%7D%0A%7D%0A&origin=opt-frontend.js&cumulative=false&heapPrimitives=false&textReferences=false&curInstr=0&&verticalStack=false&py=java&rawInputLstJSON=%5B%5D&codeDivWidth=50%25&codeDivHeight=100%25>Python Tutor</a></strong></div>"
      ],
      "text/plain": [
       "<IPython.core.display.HTML object>"
      ]
     },
     "metadata": {},
     "output_type": "display_data"
    }
   ],
   "source": [
    "%%tutor -l java -k\n",
    "\n",
    "import java.util.ArrayList;\n",
    "import java.util.Collections;\n",
    "\n",
    "public class ArrayListDemo {\n",
    "   public static void main(String[] args) {\n",
    "       \n",
    "      int[] initialNumbers = {-3, 0, 100}; \n",
    "      ArrayList<Integer> numbers = new ArrayList<Integer>();\n",
    "      numbers.add(1);\n",
    "      numbers.add(-1);\n",
    "      numbers.add(13);\n",
    "      for (int number: initialNumbers) {\n",
    "          numbers.add(number);\n",
    "      }\n",
    "      numbers.add(5);\n",
    "      System.out.println(numbers);\n",
    "       \n",
    "      Collections.shuffle(numbers);\n",
    "      System.out.println(numbers); \n",
    "       \n",
    "      int index = Collections.binarySearch(numbers, 100); \n",
    "      System.out.println(index); \n",
    "       \n",
    "      Collections.sort(numbers);\n",
    "      System.out.println(numbers); \n",
    "       \n",
    "      Collections.reverse(numbers); \n",
    "      System.out.println(numbers);  \n",
    "    \n",
    "      int maximo, minimo;\n",
    "      maximo = Collections.max(numbers);\n",
    "      minimo =Collections.min(numbers);\n",
    "       \n",
    "   }\n",
    "}\n"
   ]
  },
  {
   "cell_type": "markdown",
   "metadata": {},
   "source": [
    "## Enlaces ##\n",
    "* https://howtodoinjava.com/java-collections/\n",
    "* https://www.geeksforgeeks.org/tag/java-collections/\n",
    "* https://www.vogella.com/tutorials/JavaCollections/article.html\n",
    "* https://www.edureka.co/blog/java-collections/\n",
    "* https://beginnersbook.com/java-collections-tutorials/\n",
    "* https://beginnersbook.com/2013/12/java-arraylist/"
   ]
  },
  {
   "cell_type": "code",
   "execution_count": null,
   "metadata": {},
   "outputs": [],
   "source": []
  }
 ],
 "metadata": {
  "kernelspec": {
   "display_name": "Python 3",
   "language": "python",
   "name": "python3"
  },
  "language_info": {
   "codemirror_mode": {
    "name": "ipython",
    "version": 3
   },
   "file_extension": ".py",
   "mimetype": "text/x-python",
   "name": "python",
   "nbconvert_exporter": "python",
   "pygments_lexer": "ipython3",
   "version": "3.7.4"
  }
 },
 "nbformat": 4,
 "nbformat_minor": 2
}
